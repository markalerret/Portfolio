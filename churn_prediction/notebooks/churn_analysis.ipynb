{
 "cells": [
  {
   "cell_type": "code",
   "execution_count": 1,
   "id": "0638fae4",
   "metadata": {},
   "outputs": [],
   "source": [
    "#Set up environment for dependencies\n",
    "#Enter these into Anaconda Prompt\n",
    "\n",
    "#conda create -n churn_prediction_env python=3.9\n",
    "#conda activate churn_prediction_env"
   ]
  },
  {
   "cell_type": "code",
   "execution_count": 4,
   "id": "bb2d211e",
   "metadata": {},
   "outputs": [],
   "source": [
    "import pandas as pd\n",
    "import numpy as np\n",
    "#import matplotlib.pyplot as plt\n",
    "#import seaborn as sns\n",
    "\n",
    "# Optional: to display all columns\n",
    "pd.set_option('display.max_columns', None)"
   ]
  },
  {
   "cell_type": "code",
   "execution_count": 5,
   "id": "981ebdb2",
   "metadata": {},
   "outputs": [],
   "source": [
    "data = pd.read_csv(\"..\\\\data\\\\churn_prediction_data.csv\")"
   ]
  },
  {
   "cell_type": "markdown",
   "id": "a112510c",
   "metadata": {},
   "source": [
    "## Basic Information"
   ]
  },
  {
   "cell_type": "code",
   "execution_count": 8,
   "id": "b190c4a0-8517-4b88-98d8-49e3320c49c5",
   "metadata": {},
   "outputs": [],
   "source": [
    "# Dimensions and preview\n",
    "#print(data.shape)\n",
    "#print(data.head())\n",
    "\n",
    "# Data types and non-null counts\n",
    "#print(data.info())\n",
    "\n",
    "# Summary statistics\n",
    "#print(data.describe())\n",
    "\n",
    "# Check for duplicates\n",
    "#print(data.duplicated().sum())\n"
   ]
  },
  {
   "cell_type": "markdown",
   "id": "98c6656f",
   "metadata": {},
   "source": [
    "## Missing Values"
   ]
  },
  {
   "cell_type": "code",
   "execution_count": null,
   "id": "61d69586",
   "metadata": {},
   "outputs": [],
   "source": [
    "# Total and percent missing\n",
    "print(data.isnull().sum())\n",
    "print()\n",
    "print(data.isnull().mean() * 100)"
   ]
  },
  {
   "cell_type": "markdown",
   "id": "39bf06f9",
   "metadata": {},
   "source": [
    "## Data Types and Conversion"
   ]
  },
  {
   "cell_type": "code",
   "execution_count": null,
   "id": "b8847b4d",
   "metadata": {},
   "outputs": [],
   "source": [
    "# View types\n",
    "print(data.dtypes)\n",
    "\n",
    "# Convert if needed (e.g., date columns)\n",
    "data[\"TotalCharges\"] = pd.to_numeric(data[\"TotalCharges\"], errors=\"coerce\")"
   ]
  },
  {
   "cell_type": "markdown",
   "id": "9a23c350",
   "metadata": {},
   "source": [
    "## Target Variable Analysis (Churn)"
   ]
  },
  {
   "cell_type": "code",
   "execution_count": null,
   "id": "7723c319",
   "metadata": {},
   "outputs": [],
   "source": [
    "# Check balance for classification\n",
    "data['Churn'].value_counts(normalize=True).plot(kind='bar')\n",
    "\n",
    "# Distribution for regression\n",
    "sns.histplot(data['Churn'], kde=True)"
   ]
  },
  {
   "cell_type": "markdown",
   "id": "1b08a821",
   "metadata": {},
   "source": [
    "## Bivariate Analysis"
   ]
  },
  {
   "cell_type": "code",
   "execution_count": null,
   "id": "4b9c2df4",
   "metadata": {},
   "outputs": [],
   "source": [
    "# Categorical vs Target\n",
    "#sns.boxplot(x='gender', y='Churn', data=data)\n",
    "\n",
    "# Numerical vs Target\n",
    "#sns.scatterplot(x='tenure', y='Churn', data=data)\n",
    "\n",
    "# Correlation matrix\n",
    "plt.figure(figsize=(10, 8))\n",
    "sns.heatmap(data.corr(), annot=True, cmap='coolwarm')\n"
   ]
  },
  {
   "cell_type": "markdown",
   "id": "f4a3fb00",
   "metadata": {},
   "source": [
    "## Outlier Detection"
   ]
  },
  {
   "cell_type": "code",
   "execution_count": null,
   "id": "2a30e102",
   "metadata": {},
   "outputs": [],
   "source": [
    "# Boxplot for selected columns\n",
    "sns.boxplot(x=data['TotalCharges'])\n",
    "\n",
    "# Z-score or IQR methods (optional)\n",
    "from scipy.stats import zscore\n",
    "data['zscore'] = zscore(data['TotalCharges'])\n"
   ]
  }
 ],
 "metadata": {
  "kernelspec": {
   "display_name": "Python 3",
   "language": "python",
   "name": "python3"
  },
  "language_info": {
   "codemirror_mode": {
    "name": "ipython",
    "version": 3
   },
   "file_extension": ".py",
   "mimetype": "text/x-python",
   "name": "python",
   "nbconvert_exporter": "python",
   "pygments_lexer": "ipython3",
   "version": "3.12.10"
  }
 },
 "nbformat": 4,
 "nbformat_minor": 5
}
